{
 "cells": [
  {
   "cell_type": "markdown",
   "id": "688f019e",
   "metadata": {},
   "source": [
    "# Ejercicios de condicionales en Python\n",
    "\n",
    "1. Dado un número entero, comprueba si es positivo."
   ]
  },
  {
   "cell_type": "code",
   "execution_count": null,
   "id": "79dce12f",
   "metadata": {},
   "outputs": [],
   "source": [
    "try:\n",
    "    numero = int(input(\"Ingresa un numero: \"))\n",
    "    if numero > 0:\n",
    "        print(f\"{numero} es número positivo\")\n",
    "    else:\n",
    "        print(f\"{numero} no es número positivo\")\n",
    "except ValueError:\n",
    "    print(f\"Error: {numero} Ingrese un numero entero positivo\")"
   ]
  },
  {
   "cell_type": "markdown",
   "id": "20b12e28",
   "metadata": {},
   "source": [
    "2. Dado un número entero, comprueba si es negativo o cero."
   ]
  },
  {
   "cell_type": "code",
   "execution_count": null,
   "id": "4a7d8ee5",
   "metadata": {},
   "outputs": [],
   "source": [
    "numero = int(input(\"Ingresa un numero: \"))\n",
    "\n",
    "if numero < 0:\n",
    "    print(f\"Numero {numero} es negativo\")\n",
    "elif numero == 0:\n",
    "    print(f\"Ingresaste el numero {numero}\")\n",
    "else:\n",
    "    print(f\"{numero} es numero positivo\")"
   ]
  },
  {
   "cell_type": "markdown",
   "id": "994fcf2d",
   "metadata": {},
   "source": [
    "3. Verifica si un número es par o impar."
   ]
  },
  {
   "cell_type": "code",
   "execution_count": null,
   "id": "3108c835",
   "metadata": {},
   "outputs": [],
   "source": [
    "numero = int(input(\"Ingrese un numero: \"))\n",
    "\n",
    "if numero % 2 == 0:\n",
    "    print(f\"{numero} es un numero par\")\n",
    "else:\n",
    "    print(f\"{numero} es un numero impar\")"
   ]
  },
  {
   "cell_type": "markdown",
   "id": "822cf250",
   "metadata": {},
   "source": [
    "4. Comprueba si un número es múltiplo de 3.  \n",
    "ver que pasen otros tipos de numeros (float, enteros, imaginarios)\n",
    "- Arreglar print 👌"
   ]
  },
  {
   "cell_type": "code",
   "execution_count": null,
   "id": "2a6932c5",
   "metadata": {},
   "outputs": [],
   "source": [
    "numero = int(input(\"Ingrese un numero: \"))\n",
    "\n",
    "if numero % 3 == 0:\n",
    "    print(f\"El {numero} si es múltiplo de 3\")\n",
    "else:\n",
    "    print(f\"El {numero} no es múltiplo de 3\")"
   ]
  },
  {
   "cell_type": "code",
   "execution_count": null,
   "id": "5d36080c",
   "metadata": {},
   "outputs": [],
   "source": [
    "numero = int(input(\"Ingrese un numero: \"))\n",
    "\n",
    "if numero % 3 == 0:\n",
    "    print(f\"El {numero} si es múltiplo de 3\")\n",
    "elif numero % 3 != 0:\n",
    "    print(f\"El {numero} no es múltiplo de 3\")\n",
    "else:\n",
    "    print(f\"Error, por favor ingrese un número entero\")"
   ]
  },
  {
   "cell_type": "markdown",
   "id": "af0da1e0",
   "metadata": {},
   "source": [
    "5. Comprueba si un número es múltiplo de 5 y de 3 (ambos). \n",
    "concatenar el numero que se ingreso al mensaje"
   ]
  },
  {
   "cell_type": "code",
   "execution_count": null,
   "id": "47917a54",
   "metadata": {},
   "outputs": [],
   "source": [
    "numero = int(input(\"Ingrese un numero: \"))\n",
    "\n",
    "if numero % 3 == 0 and numero % 5 == 0:\n",
    "    print(f\"El {numero} si es multiplo de 3 y de 5\")\n",
    "\n",
    "else:\n",
    "    print(f\"El {numero} no es multiplo de 3 ni de 5\")"
   ]
  },
  {
   "cell_type": "markdown",
   "id": "6c198bee",
   "metadata": {},
   "source": [
    "6. Pide la edad del usuario y determina si es mayor de edad (>=18).  "
   ]
  },
  {
   "cell_type": "code",
   "execution_count": null,
   "id": "303575b8",
   "metadata": {},
   "outputs": [],
   "source": [
    "edad = int(input(\"Ingrese su edad: \"))\n",
    "\n",
    "if edad >= 18:\n",
    "    print(\"Usted es mayor de edad\")\n",
    "else: \n",
    "    print(\"Usted no es mayor de edad\")"
   ]
  },
  {
   "cell_type": "markdown",
   "id": "9f80049d",
   "metadata": {},
   "source": [
    "7. Pide la nota de un examen (0–100) y clasifícala:  \n",
    "   - 90–100 → Excelente  \n",
    "   - 70–89 → Bueno  \n",
    "   - 50–69 → Suficiente  \n",
    "   - <50 → Insuficiente\n",
    "\n",
    "   y si ingresan un numero menos de 0, dar mensje"
   ]
  },
  {
   "cell_type": "code",
   "execution_count": null,
   "id": "cc0c0664",
   "metadata": {},
   "outputs": [],
   "source": [
    "nota = int(input(\"Ingrese su nota del examen: \"))\n",
    "\n",
    "if nota >= 90:          #porque es del 90 al 100\n",
    "    print(\"Excelente\")\n",
    "elif nota >= 70:\n",
    "    print(\"Bueno\")\n",
    "elif nota >= 50:\n",
    "    print(\"Suficiente\")\n",
    "elif nota >= 0:\n",
    "    print(\"Insuficiente\")\n",
    "else:\n",
    "    print(\"Error, por favor ingrese su nota del examen entre 0 y 100)\")"
   ]
  },
  {
   "cell_type": "markdown",
   "id": "d83edd86",
   "metadata": {},
   "source": [
    "8. Comprueba si una letra dada es vocal o consonante. // buscar otra forma de estructura para realizar esto. Si ingresan mayusculas."
   ]
  },
  {
   "cell_type": "code",
   "execution_count": null,
   "id": "106627ad",
   "metadata": {},
   "outputs": [],
   "source": [
    "# 1era estructura\n",
    "\n",
    "letra = input(\"Ingrese una letra: \")\n",
    "\n",
    "if letra == \"a\" or letra == \"e\" or letra == \"i\" or letra == \"o\" or letra == \"u\":\n",
    "    print(f\"{letra} Si es una vocal\")\n",
    "else:\n",
    "    print(f\"{letra} no es una vocal es una consonante\")"
   ]
  },
  {
   "cell_type": "code",
   "execution_count": null,
   "id": "4c910679",
   "metadata": {},
   "outputs": [],
   "source": [
    "# mejorada\n",
    "\n",
    "letra = input(\"Ingrese una letra: \")\n",
    "\n",
    "if letra.lower() in 'aeiou':         #lower() convierte una letra/cadena a minusculas = true\n",
    "    print(f\"{letra} Si es una vocal\")\n",
    "elif letra.lower() in 'bcdfghjklmnñpqrstvwxyz':\n",
    "    print(f\"{letra} es una consonante\")\n",
    "else:\n",
    "    print(\"Error, favor ingrese una letra.\") "
   ]
  },
  {
   "cell_type": "markdown",
   "id": "813029a9",
   "metadata": {},
   "source": [
    "9. Comprueba si un carácter es mayúscula o minúscula. // que pasa si pongo un () u otro caracter, especificar"
   ]
  },
  {
   "cell_type": "code",
   "execution_count": null,
   "id": "6d42f636",
   "metadata": {},
   "outputs": [],
   "source": [
    "caracter = (input(\"Ingrese un caracter: \"))\n",
    "\n",
    "if caracter.isupper():     #verifica que las cadenas de texto esten en mayuscula\n",
    "    print(f\"{caracter} Es mayúscula\")\n",
    "elif caracter.islower():   #verifica que las cadenas de texto esten en minuscula\n",
    "    print(f\"{caracter} Es minúscula\")\n",
    "else:\n",
    "    print(\"error\")"
   ]
  },
  {
   "cell_type": "markdown",
   "id": "d14362b3",
   "metadata": {},
   "source": [
    "Buscar la funcion dir"
   ]
  },
  {
   "cell_type": "code",
   "execution_count": null,
   "id": "84dd168b",
   "metadata": {},
   "outputs": [],
   "source": [
    "dir(caracter)"
   ]
  },
  {
   "cell_type": "markdown",
   "id": "6894359e",
   "metadata": {},
   "source": [
    "10. Pide al usuario un año y determina si es bisiesto.\n",
    "* Para determinar si un año es bisiesto, sigue estos pasos:\n",
    "* Verifica la divisibilidad por 4: \n",
    "Si el año no es divisible por 4, no es bisiesto.\n",
    "* Si es divisible por 4, verifica la divisibilidad por 100: \n",
    "Si el año es divisible por 4 pero también por 100, no es bisiesto a menos que...\n",
    "* Si es divisible por 100, verifica la divisibilidad por 400: \n",
    "Si el año es divisible por 100 y también por 400, entonces es bisiesto."
   ]
  },
  {
   "cell_type": "code",
   "execution_count": null,
   "id": "0a4f6248",
   "metadata": {},
   "outputs": [],
   "source": [
    "anio = int(input(\"Ingrese un año: \"))\n",
    "\n",
    "if anio % 400 == 0: # divisible por 400, sera bisiesto\n",
    "    print(f\"El año {anio} es bisiesto\")\n",
    "\n",
    "elif anio % 100 == 0: # divisible por 100, pero no por 400, no bisiesto\n",
    "    print(f\"El año {anio} no es bisiesto\")\n",
    "\n",
    "elif anio % 4 == 0: # divisible por 4, pero no de 100, bisiesto \n",
    "    print(f\"El año {anio} es bisiesto\")\n",
    "\n",
    "else:\n",
    "    print(f\"El año {anio} no es bisiesto\")\n"
   ]
  },
  {
   "cell_type": "markdown",
   "id": "c1fafd4b",
   "metadata": {},
   "source": [
    "11. Pide tres números y muestra el mayor. // mejorar y poner todos los casos posibles.\n",
    "- funciono, 321 - 123 - -1 1 0 - \n",
    "- No funciono = 111 \n"
   ]
  },
  {
   "cell_type": "code",
   "execution_count": null,
   "id": "320f0276",
   "metadata": {},
   "outputs": [],
   "source": [
    "numero_uno = int(input(\"Ingrese un primer numero: \"))\n",
    "numero_dos = int(input(\"Ingrese un segundo numero: \"))\n",
    "numero_tres = int(input(\"Ingrese un tercer numero: \"))\n",
    "\n",
    "if numero_uno > numero_dos and numero_uno > numero_tres:\n",
    "    print(f\"El {numero_uno} es mayor {numero_dos} y {numero_tres}\")\n",
    "\n",
    "elif numero_dos > numero_tres and numero_dos > numero_uno:\n",
    "    print(f\"El {numero_dos} es mayor {numero_tres} y {numero_uno}\")\n",
    "\n",
    "elif numero_tres > numero_dos and numero_tres > numero_uno:\n",
    "    print(f\"El {numero_tres} es mayor {numero_dos} y {numero_uno}\")\n",
    "else:\n",
    "    print(f\"Error, ingresa números diferentes\")"
   ]
  },
  {
   "cell_type": "markdown",
   "id": "d2a00656",
   "metadata": {},
   "source": [
    "12. Pide tres números y muestra el orden de mayor a menor.\n",
    "- Imprimir los numeros que entran y salen\n",
    "- Los numeros que funcionan (enteros positivos) y no funcionan (los negativos) - corregir"
   ]
  },
  {
   "cell_type": "code",
   "execution_count": null,
   "id": "6a9c8c09",
   "metadata": {},
   "outputs": [],
   "source": [
    "numero_uno = int(input(\"Ingrese un primer numero: \"))\n",
    "numero_dos = int(input(\"Ingrese un segundo numero: \"))\n",
    "numero_tres = int(input(\"Ingrese un tercer numero: \"))\n",
    "\n",
    "if numero_uno >= numero_dos and numero_dos >= numero_tres:\n",
    "    print(f\"El orden de los numeros de mayor a menor es {numero_uno}, {numero_dos}, {numero_tres}\")\n",
    "\n",
    "elif numero_dos >= numero_uno and numero_uno >= numero_tres:\n",
    "    print(f\"El orden de los numeros de mayor a menor es {numero_dos}, {numero_uno},{numero_tres}\")\n",
    "\n",
    "elif numero_tres >= numero_uno and numero_uno >= numero_dos:\n",
    "    print(f\"El orden de los numeros de mayor a menor es {numero_tres},{numero_uno},{numero_dos}\")\n",
    "\n",
    "elif numero_tres >= numero_dos and numero_dos >= numero_uno:\n",
    "    print(f\"El orden de los numeros de mayor a menor es {numero_tres},{numero_dos},{numero_uno}\")\n",
    "\n",
    "elif numero_uno >= numero_tres and numero_tres >= numero_dos:\n",
    "    print(f\"El orden de los numeros de mayor a menor es {numero_uno},{numero_tres},{numero_dos}\")\n",
    "\n",
    "elif numero_dos >= numero_tres and numero_tres >= numero_uno:\n",
    "    print(f\"El orden de los numeros de mayor a menor es {numero_dos},{numero_tres},{numero_uno}\")\n",
    "\n",
    "else:\n",
    "    print(\"Ingrese numero entero\")"
   ]
  },
  {
   "cell_type": "markdown",
   "id": "9b58deb4",
   "metadata": {},
   "source": [
    "13. Dado el peso (kg) y la altura (m), calcula el IMC y clasifícalo:  \n",
    "    - <18.5 → Bajo peso  \n",
    "    - 18.5–24.9 → Normal  \n",
    "    - 25–29.9 → Sobrepeso  \n",
    "    - ≥30 → Obesidad \n",
    "\n",
    "    - IMC = peso / (altura * altura)\n",
    "    - mejorar los mensajes que se imprimen //"
   ]
  },
  {
   "cell_type": "code",
   "execution_count": null,
   "id": "0d0d3005",
   "metadata": {},
   "outputs": [],
   "source": [
    "altura = float(input(\"Ingresa tu altura (m): \"))\n",
    "peso = int(input(\"Ingresa tu peso corporal (kg):\"))\n",
    "\n",
    "imc = round(peso / (altura * altura), 2)\n",
    "\n",
    "if imc < 18.5:\n",
    "    print(f\"Tú IMC es de {imc} e indica que estas bajo peso\")\n",
    "elif imc < 24.9:\n",
    "    print(f\"El IMC es de {imc} e indica que estas con tu peso normal\")\n",
    "elif imc < 29.9:\n",
    "    print(f\"El IMC es de {imc} e indica que estas con sobrepeso\")\n",
    "else:\n",
    "    print(f\"El IMC es de {imc} e indica que estas con obesidad\")"
   ]
  },
  {
   "cell_type": "markdown",
   "id": "3282137d",
   "metadata": {},
   "source": [
    "14. Pide un mes (1–12) e indica cuántos días tiene ese mes (considera febrero con 28 días).\n",
    "- Caso feliz = que se imprima (mostrar) el mes que se ingresando \n",
    "- caso triste = que no se imprima el mensaje con el mes ingresado"
   ]
  },
  {
   "cell_type": "code",
   "execution_count": null,
   "id": "f8ecdef4",
   "metadata": {},
   "outputs": [],
   "source": [
    "mes = int(input(\"Ingrese un mes del 1 al 12): \"))\n",
    "\n",
    "#voy a crear una lista\n",
    "meses = [\"Enero\", \"Febrero\", \"Marzo\", \"Abril\", \"Mayo\", \"Junio\", \"Julio\", \"Agosto\", \"Septiembre\", \"Octubre\", \"Noviembre\", \"Diciembre\"] #lista de meses\n",
    "# print(meses[0]) #llama la posicion 0 de la lista meses\n",
    "# print(meses[1]) #llama la posicion 1 de la lista meses\n",
    "# print(meses[2]) #llama la posicion 2 de la lista meses\n",
    "# print(meses[mes -1]) #llama a la lista meses y trae el valor de la posicion basado en la variable mes, porque las listas comienzan del 0\n",
    "\n",
    "if mes in [1,3,5,7,8,10,12]:\n",
    "    print(f\"El mes de {meses[mes -1]} tiene 31 días\")\n",
    "elif mes == 2:\n",
    "    print(f\"El mes de {meses[mes -1]} tiene 28 días\")\n",
    "else:\n",
    "    print(f\"El mes de {meses[mes -1]} tiene 30 días\")"
   ]
  },
  {
   "cell_type": "markdown",
   "id": "f858e532",
   "metadata": {},
   "source": [
    "15. Pide dos cadenas y comprueba si son iguales (sensible a mayúsculas). \n",
    "- mejorar los mensajes finales para que muestre si son iguales o no las cadenas"
   ]
  },
  {
   "cell_type": "code",
   "execution_count": null,
   "id": "3964bf8f",
   "metadata": {},
   "outputs": [],
   "source": [
    "cadena_uno = input(\"Ingrese una frase: \")\n",
    "cadena_dos = input(\"Ingrese otra frase: \")\n",
    "\n",
    "if cadena_uno.isupper() and cadena_dos.isupper() or cadena_uno == cadena_dos:\n",
    "    print(f\"Las frases son iguales: {cadena_uno} = {cadena_dos}\")\n",
    "else:\n",
    "    print(f\"Las frases son diferentes: {cadena_uno} ≠ {cadena_dos}\")"
   ]
  }
 ],
 "metadata": {
  "kernelspec": {
   "display_name": "Python 3",
   "language": "python",
   "name": "python3"
  },
  "language_info": {
   "codemirror_mode": {
    "name": "ipython",
    "version": 3
   },
   "file_extension": ".py",
   "mimetype": "text/x-python",
   "name": "python",
   "nbconvert_exporter": "python",
   "pygments_lexer": "ipython3",
   "version": "3.13.5"
  }
 },
 "nbformat": 4,
 "nbformat_minor": 5
}
