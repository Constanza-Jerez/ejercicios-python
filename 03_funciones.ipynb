{
 "cells": [
  {
   "cell_type": "markdown",
   "id": "10239d22",
   "metadata": {},
   "source": [
    "# 50 Ejercicios de Funciones en Python "
   ]
  },
  {
   "cell_type": "markdown",
   "id": "3e8e98c3",
   "metadata": {},
   "source": [
    "1. Define `hola_mundo()` que imprima “¡Hola, mundo!”. "
   ]
  },
  {
   "cell_type": "code",
   "execution_count": null,
   "id": "ed127e5f",
   "metadata": {},
   "outputs": [],
   "source": [
    "def hola_mundo():\n",
    "    print(\"Hola, Mundo!\")\n",
    "\n",
    "hola_mundo()"
   ]
  },
  {
   "cell_type": "markdown",
   "id": "dab1a9c4",
   "metadata": {},
   "source": [
    "2. Crea `suma(a, b)` que devuelva la suma de dos números.  "
   ]
  },
  {
   "cell_type": "code",
   "execution_count": null,
   "id": "44156687",
   "metadata": {},
   "outputs": [],
   "source": [
    "def suma(a,b):\n",
    "    sum = a + b\n",
    "    print(f\"La suma de a + b es {sum}\")\n",
    "\n",
    "suma(5,6)"
   ]
  },
  {
   "cell_type": "markdown",
   "id": "324ddcea",
   "metadata": {},
   "source": [
    "3. Implementa `resta(a, b)` que devuelva la resta (a − b)."
   ]
  },
  {
   "cell_type": "code",
   "execution_count": null,
   "id": "9ef0e675",
   "metadata": {},
   "outputs": [],
   "source": []
  },
  {
   "cell_type": "markdown",
   "id": "c434a12a",
   "metadata": {},
   "source": [
    "4. Escribe `multiplica(a, b)` que devuelva el producto. "
   ]
  },
  {
   "cell_type": "code",
   "execution_count": null,
   "id": "19d4cf6b",
   "metadata": {},
   "outputs": [],
   "source": []
  },
  {
   "cell_type": "markdown",
   "id": "0dead9af",
   "metadata": {},
   "source": [
    "5. Haz `divide(a, b)` que devuelva el cociente y maneje división por cero. "
   ]
  },
  {
   "cell_type": "code",
   "execution_count": null,
   "id": "6707eea4",
   "metadata": {},
   "outputs": [],
   "source": []
  }
 ],
 "metadata": {
  "kernelspec": {
   "display_name": "Python 3",
   "language": "python",
   "name": "python3"
  },
  "language_info": {
   "codemirror_mode": {
    "name": "ipython",
    "version": 3
   },
   "file_extension": ".py",
   "mimetype": "text/x-python",
   "name": "python",
   "nbconvert_exporter": "python",
   "pygments_lexer": "ipython3",
   "version": "3.13.5"
  }
 },
 "nbformat": 4,
 "nbformat_minor": 5
}
