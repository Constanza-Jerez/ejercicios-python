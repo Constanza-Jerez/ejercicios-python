{
 "cells": [
  {
   "cell_type": "markdown",
   "id": "5ecc490e",
   "metadata": {},
   "source": [
    "# Excepciones \n",
    "##### Las excepciones son errores que ocurren durante la ejecucion del programa. La sintaxis del codigo es correcta, pero durante la ejecución ha ocurrido \"algo inesperado\"."
   ]
  },
  {
   "cell_type": "markdown",
   "id": "60b7dc20",
   "metadata": {},
   "source": [
    "### Realizar 20 ejercicios a mi nivel de manejo de errores"
   ]
  },
  {
   "cell_type": "markdown",
   "id": "71ffe6e5",
   "metadata": {},
   "source": [
    "Ejemplo de excepciones\n",
    "TRY | EXCEPT | FINALLY\n",
    "\n",
    "cual es el formato de un try/catch?(lo mas importante)\n",
    "- informar al cliente cual fue su error (mas detallado)"
   ]
  },
  {
   "cell_type": "code",
   "execution_count": null,
   "id": "f3365983",
   "metadata": {},
   "outputs": [],
   "source": [
    "numero_1 = 0\n",
    "numero_2 = 0\n",
    "\n",
    "try:\n",
    "    numero_1 = int(input(\"Ingrese un primer numero: \"))\n",
    "    numero_2 = int(input(\"Ingrese un segundo numero: \"))\n",
    "\n",
    "    resultado = numero_1 * numero_2\n",
    "    print(f\"El resultado de la multiplicación de {numero_1} X {numero_2} = {resultado}\")\n",
    "\n",
    "except:\n",
    "    print(f\"Error: has ingresado {numero_1} - {numero_2}. Por favor, ingrese números enteros válidos.\")"
   ]
  },
  {
   "cell_type": "markdown",
   "id": "86c01c44",
   "metadata": {},
   "source": []
  },
  {
   "cell_type": "code",
   "execution_count": null,
   "id": "ae4ac239",
   "metadata": {},
   "outputs": [],
   "source": [
    "numero_1 = 0\n",
    "numero_2 = 0\n",
    "\n",
    "try:\n",
    "    numero_1 = int(input(\"Ingrese un primer numero: \"))\n",
    "    numero_2 = int(input(\"Ingrese un segundo numero: \"))\n",
    "\n",
    "    resultado = numero_1 * numero_2\n",
    "    print(f\"El resultado de la multiplicación de {numero_1} X {numero_2} = {resultado}\")\n",
    "\n",
    "except Exception as error:\n",
    "    print(f\"Error: has ingresado {numero_1} - {numero_2}. Por favor, ingrese números enteros válidos.\", error)"
   ]
  },
  {
   "cell_type": "markdown",
   "id": "3d2e63d0",
   "metadata": {},
   "source": [
    "para ver el potencial de otras variables:"
   ]
  },
  {
   "cell_type": "code",
   "execution_count": null,
   "id": "5341460f",
   "metadata": {},
   "outputs": [],
   "source": [
    "nombre_de_variable_de_error = Exception(\"algo pasó\")\n",
    "#dir(nombre_de_variable_de_error)              # Lista de atributos\n",
    "#help(nombre_de_variable_de_error)             # Documentación\n",
    "#nombre_de_variable_de_error.args              # Accede al mensaje\n",
    "#str(nombre_de_variable_de_error)              # Ver el mensaje como texto\n",
    "type(nombre_de_variable_de_error).__name__    # Saber el nombre real de la clase"
   ]
  },
  {
   "cell_type": "markdown",
   "id": "4139df5f",
   "metadata": {},
   "source": [
    "1. Escribe un programa que divida dos números ingresados por el usuario y maneje la división por cero. \n",
    "\n",
    "- Vaciar las variables antes de ejecutar el codigo."
   ]
  },
  {
   "cell_type": "code",
   "execution_count": null,
   "id": "378655b1",
   "metadata": {},
   "outputs": [],
   "source": [
    "try:\n",
    "    numero_1 = int(input(\"Ingrese un primer numero: \"))\n",
    "    numero_2 = int(input(\"Ingrese un segundo numero: \"))    \n",
    "    resultado = numero_1 / numero_2\n",
    "    print(f\"El resultado de la división de {numero_1} / {numero_2} = {resultado}\")\n",
    "\n",
    "except Exception as e:\n",
    "    print(f\"Error: has ingresado {numero_1} - {numero_2}. No se puede dividir por cero.\", e)\n",
    "\n"
   ]
  },
  {
   "cell_type": "markdown",
   "id": "5904c9ba",
   "metadata": {},
   "source": [
    "2. Lee un valor con `int(input())` y atrapa la excepción si el usuario ingresa texto no numérico"
   ]
  },
  {
   "cell_type": "code",
   "execution_count": null,
   "id": "1200b7c6",
   "metadata": {},
   "outputs": [],
   "source": [
    "try:\n",
    "    num = int(input(\"Ingrese un texto: \"))\n",
    "    print(f\"El número ingresado es: {num}\")\n",
    "except ValueError:\n",
    "    print(\"Error: Por favor, ingrese un valor numerico.\")\n"
   ]
  },
  {
   "cell_type": "markdown",
   "id": "210502f7",
   "metadata": {},
   "source": [
    "3. Divide dos números ingresados por el usuario y captura `ZeroDivisionError`. "
   ]
  },
  {
   "cell_type": "code",
   "execution_count": null,
   "id": "2728fee1",
   "metadata": {},
   "outputs": [],
   "source": [
    "try:\n",
    "    num_1 = int(input(\"Ingrese un primer numero: \"))\n",
    "    num_2 = int(input(\"Ingrese un segundo numero: \"))\n",
    "    resultado = num_1 / num_2\n",
    "    print(f\"El resultado de la división de {num_1} / {num_2} = {resultado}\")\n",
    "    \n",
    "except ZeroDivisionError:\n",
    "    print(\"Error:No se puede dividir por cero.\")"
   ]
  },
  {
   "cell_type": "code",
   "execution_count": null,
   "id": "95ea895a",
   "metadata": {},
   "outputs": [],
   "source": [
    "nombre_de_variable_de_error = ZeroDivisionError(\"Division por cero\", e)\n",
    "#dir(nombre_de_variable_de_error)              # Lista de atributos\n",
    "#help(nombre_de_variable_de_error)             # Documentación\n",
    "nombre_de_variable_de_error.args              # Accede al mensaje\n",
    "#str(nombre_de_variable_de_error)              # Ver el mensaje como texto\n",
    "#type(nombre_de_variable_de_error).__name__    # Saber el nombre real de la clase"
   ]
  },
  {
   "cell_type": "markdown",
   "id": "ad9fa763",
   "metadata": {},
   "source": [
    "4. Abre un fichero `\"archivo.txt\"` en modo lectura y captura `FileNotFoundError`."
   ]
  },
  {
   "cell_type": "code",
   "execution_count": null,
   "id": "a8ad3d23",
   "metadata": {},
   "outputs": [],
   "source": []
  },
  {
   "cell_type": "markdown",
   "id": "e2a81043",
   "metadata": {},
   "source": [
    "5. Usa `except Exception` para atrapar cualquier excepción y mostrar su tipo con `type()`."
   ]
  },
  {
   "cell_type": "code",
   "execution_count": null,
   "id": "3510f747",
   "metadata": {},
   "outputs": [],
   "source": [
    "try:\n",
    "    num_1 = int(input(\"Ingrese un primer numero: \"))\n",
    "    text_1 = input(\"Ingrese un texto: \")\n",
    "    print(f\"{num_1} - {text_1}\")\n",
    "    print(f\"{type(num_1)} - {type(text_1)}\")\n",
    "\n",
    "    resultado = num_1 + text_1\n",
    "    print(f\"{resultado}\")\n",
    "    \n",
    "except Exception as textodelerror:\n",
    "    print(f\"Error {textodelerror}\")\n"
   ]
  },
  {
   "cell_type": "markdown",
   "id": "497d8e50",
   "metadata": {},
   "source": [
    "6. Intenta acceder a un índice inválido en una lista y captura `IndexError`. "
   ]
  },
  {
   "cell_type": "code",
   "execution_count": null,
   "id": "ab8dc497",
   "metadata": {},
   "outputs": [],
   "source": [
    "\n",
    "try:\n",
    "    lista = [1, 2, 3, 4, 5, 6, 7]\n",
    "\n",
    "    llamado = int(input(\"Ingrese un número para buscar en la lista: \"))\n",
    "    if llamado in lista:\n",
    "        print(f\"Sí, el {llamado} se encuentra en la lista.\")\n",
    "    else:\n",
    "        print(f\"No, el {llamado} no se encuentra en la lista.\")\n",
    "\n",
    "except IndexError:\n",
    "    print(f\"Error, el indice {llamado} no se encuentra\")"
   ]
  }
 ],
 "metadata": {
  "kernelspec": {
   "display_name": "Python 3",
   "language": "python",
   "name": "python3"
  },
  "language_info": {
   "codemirror_mode": {
    "name": "ipython",
    "version": 3
   },
   "file_extension": ".py",
   "mimetype": "text/x-python",
   "name": "python",
   "nbconvert_exporter": "python",
   "pygments_lexer": "ipython3",
   "version": "3.13.5"
  }
 },
 "nbformat": 4,
 "nbformat_minor": 5
}
