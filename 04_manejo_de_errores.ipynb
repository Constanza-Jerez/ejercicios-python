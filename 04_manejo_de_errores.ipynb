{
 "cells": [
  {
   "cell_type": "markdown",
   "id": "60b7dc20",
   "metadata": {},
   "source": [
    "Realizar 20 ejercicios a mi nivel de manejo de errores"
   ]
  },
  {
   "cell_type": "code",
   "execution_count": null,
   "id": "f3365983",
   "metadata": {},
   "outputs": [],
   "source": []
  }
 ],
 "metadata": {
  "language_info": {
   "name": "python"
  }
 },
 "nbformat": 4,
 "nbformat_minor": 5
}
