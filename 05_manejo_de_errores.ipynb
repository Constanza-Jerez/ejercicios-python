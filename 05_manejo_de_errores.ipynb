{
 "cells": [
  {
   "cell_type": "markdown",
   "id": "08fb2b77",
   "metadata": {},
   "source": [
    "# 10 Ejercicios que provocan errores comunes en Python\n"
   ]
  },
  {
   "cell_type": "markdown",
   "id": "3cfb0d92",
   "metadata": {},
   "source": [
    "1. **ValueError**  \n",
    "   **Descripción:** Convierte una cadena no numérica a entero.  \n",
    "   ```python\n",
    "   # Provoca ValueError: invalid literal for int()\n",
    "   value = int(\"abc\")\n",
    "   print(value)"
   ]
  },
  {
   "cell_type": "code",
   "execution_count": null,
   "id": "cbd5dd83",
   "metadata": {},
   "outputs": [],
   "source": [
    "try:\n",
    "    valor = input(\"Ingrese un texto: \")                       #cadena no numerica\n",
    "    cadena = int(valor)                 #castear = conversión de un tipo de dato a otro\n",
    "    print(f\"El valor de '{cadena}' es un entero\")\n",
    "\n",
    "except ValueError:\n",
    "    print(f\"Error, el valor de '{valor}', no se puede convertir de texto a entero\")"
   ]
  },
  {
   "cell_type": "markdown",
   "id": "26cfe5f3",
   "metadata": {},
   "source": [
    "2. **TypeError**  \n",
    "   ```python\n",
    "   # Suma de tipo incompatible\n",
    "   result = \"hola\" + 5\n"
   ]
  },
  {
   "cell_type": "code",
   "execution_count": null,
   "id": "7161aaad",
   "metadata": {},
   "outputs": [],
   "source": [
    "entrada = input(\"Ingrese un texto: \")\n",
    "entrada_dos = int(input(\"Ingrese un numero: \"))  \n",
    "resultado = entrada + entrada_dos\n",
    "\n",
    "print(f\"El resultado es {resultado}\")\n",
    "\n"
   ]
  },
  {
   "cell_type": "code",
   "execution_count": null,
   "id": "ead7292e",
   "metadata": {},
   "outputs": [],
   "source": [
    "entrada = \"\"\n",
    "entrada_dos = 0\n",
    "\n",
    "try:\n",
    "    entrada = input(\"Ingrese un texto: \")\n",
    "    print(entrada)\n",
    "    entrada_dos = int(input(\"Ingrese un numero: \"))\n",
    "    print(entrada_dos)\n",
    "    resultado = entrada + entrada_dos\n",
    "    print(f\"El resultado de la suma es: {resultado}\")\n",
    "\n",
    "except TypeError as t:\n",
    "    print(f\"Error, el valor de '{entrada}', no se puede sumar, porque es texto\", t)  \n",
    "except ValueError as v:\n",
    "    print(f\"Error, el valor de '{entrada_dos}' y de {entrada} no se pueden sumar\", v) "
   ]
  },
  {
   "cell_type": "code",
   "execution_count": null,
   "id": "eaf10af5",
   "metadata": {},
   "outputs": [],
   "source": [
    "entrada = \"\"\n",
    "entrada_dos = 0\n",
    "\n",
    "try:\n",
    "    entrada = input(\"Ingrese un texto: \")\n",
    "    print(entrada)\n",
    "    entrada_dos = int(input(\"Ingrese un numero: \"))\n",
    "    print(entrada_dos)\n",
    "    resultado = entrada + entrada_dos\n",
    "    print(f\"El resultado de la suma es: {resultado}\")\n",
    "\n",
    "except (TypeError, ValueError) as t:\n",
    "    print(f\"Ha ocurrido un error\", t)"
   ]
  },
  {
   "cell_type": "markdown",
   "id": "1f884e74",
   "metadata": {},
   "source": [
    "3. **IndexError**  \n",
    "   ```python\n",
    "   # Acceso fuera de rango de una lista\n",
    "    items = [10, 20, 30]\n",
    "    print(items[5])"
   ]
  },
  {
   "cell_type": "code",
   "execution_count": null,
   "id": "1f0a8973",
   "metadata": {},
   "outputs": [],
   "source": [
    "item = [10,20,30]\n",
    "print(item[5])\n"
   ]
  },
  {
   "cell_type": "markdown",
   "id": "7dbce3d6",
   "metadata": {},
   "source": [
    "## Uso de listas:\n",
    "que pueden entregarme los datos del principio como del final (a la inversa).\n",
    "El indice puede ser positivos como negativos [+] - [-] y [0], porque las listas parten de cero"
   ]
  },
  {
   "cell_type": "code",
   "execution_count": null,
   "id": "a3f33cef",
   "metadata": {},
   "outputs": [],
   "source": [
    "try:\n",
    "\n",
    "    item = [10,20,30,60]\n",
    "    entrada = int(input(\"Que numero de la lista quiere ver: \"))\n",
    "\n",
    "    print(f\"El item es: {item[entrada-2]}\")\n",
    "\n",
    "except (IndexError, ValueError) as error:\n",
    "    #total = len(item)\n",
    "    print(f\"Error, el item esta fuera del rango del 1 al 4.\", error)"
   ]
  },
  {
   "cell_type": "markdown",
   "id": "d054d656",
   "metadata": {},
   "source": [
    "4. **KeyError**  \n",
    "   ```python\n",
    "   # Acceso a clave inexistente en un diccionario\n",
    "    data = {\"a\": 1, \"b\": 2}\n",
    "    value = data[\"c\"]\n",
    "   ```\n",
    "   \n",
    "   La excepción KeyError se produce cuando intentas acceder a una \n",
    "   clave de un diccionario usando la sintaxis diccionario[clave] y la clave en cuestión no está en el diccionario.\n",
    "   Diccionario = {se componen de claves y valores} se buscan por la clave y no tienen un orden como en las listas\n",
    "   listas = se buscan por indices\n",
    "   "
   ]
  },
  {
   "cell_type": "code",
   "execution_count": null,
   "id": "4f8fb535",
   "metadata": {},
   "outputs": [],
   "source": [
    "diccionario = {\"a\": 1, \"b\": 2}\n",
    "value = diccionario[\"c\"]"
   ]
  },
  {
   "cell_type": "code",
   "execution_count": null,
   "id": "42bf0a75",
   "metadata": {},
   "outputs": [],
   "source": [
    "try:\n",
    "    diccionario = {\"a\": 1, \"b\": 2}\n",
    "    entrada = input(\"Ingrese la clave del diccionario que desea ver: \")\n",
    "    value = diccionario[entrada]                #intentar acceder a la clave del diccionario que podria no existir\n",
    "    print(type(entrada))\n",
    "\n",
    "    print(f\"La clave '{entrada}' tiene el valor '{value}'\")\n",
    "    #print(type(value))\n",
    "\n",
    "except KeyError:\n",
    "    print(f\"error es \", type(entrada))\n",
    "    print(f\"Error, la clave ingresada '{entrada}' no se encuentra en el diccionario\")"
   ]
  },
  {
   "cell_type": "markdown",
   "id": "174ac16b",
   "metadata": {},
   "source": [
    "5. **ZeroDivisionError**  \n",
    "   ```python\n",
    "   # División por cero\n",
    "    x = 10 / 0\n"
   ]
  },
  {
   "cell_type": "code",
   "execution_count": null,
   "id": "5fcc18fa",
   "metadata": {},
   "outputs": [],
   "source": [
    "x = 10 / 0"
   ]
  },
  {
   "cell_type": "code",
   "execution_count": null,
   "id": "d454e86e",
   "metadata": {},
   "outputs": [],
   "source": [
    "try:\n",
    "    #x = 10\n",
    "    num_uno = int(input(\"Ingrese un numero que quiere dividir: \"))\n",
    "    num_dos = int(input(\"Ingrese el numero que va a dividir: \"))\n",
    "    resultado = num_uno / num_dos\n",
    "    print(f\"El resultado de la division de {num_uno} / {num_dos} es: {resultado}\")\n",
    "\n",
    "except ZeroDivisionError:\n",
    "    print(f\"Error, no se puede dividir por cero.\")    "
   ]
  },
  {
   "cell_type": "markdown",
   "id": "2a51f2a8",
   "metadata": {},
   "source": [
    "6. **FileNotFoundError**  \n",
    "   ```python\n",
    "    # Intento de abrir un archivo que no existe\n",
    "    with open(\"archivo_que_no_existe.txt\", \"r\") as f:\n",
    "    content = f.read()\n",
    "    ```\n",
    "\n",
    "   Es una excepción que ocurre cuando el programa intenta acceder a un archivo o directorio que no existe en la ubicación especificada.\n",
    "\n"
   ]
  },
  {
   "cell_type": "code",
   "execution_count": null,
   "id": "1c09bed8",
   "metadata": {},
   "outputs": [],
   "source": [
    "with open(\"archivo_que_no_existe.txt\", \"r\") as f:\n",
    "    content = f.read()"
   ]
  },
  {
   "cell_type": "code",
   "execution_count": null,
   "id": "d89bbf66",
   "metadata": {},
   "outputs": [],
   "source": [
    "try:\n",
    "\n",
    "    with open(\"archivo_que_no_existe.txt\", \"r\") as f:\n",
    "        content = f.read()\n",
    "\n",
    "except FileNotFoundError:\n",
    "    print(f\"Error, el archivo no existe.\")"
   ]
  },
  {
   "cell_type": "markdown",
   "id": "ff1b3d6e",
   "metadata": {},
   "source": [
    " 7. **PermissionError**  \n",
    "   ```python\n",
    "   # Intento de escribir en una ruta protegida (Linux)\n",
    "    with open(\"/root/archivo_secreto.txt\", \"w\") as f:\n",
    "    f.write(\"contenido\")\n",
    "  ```\n"
   ]
  },
  {
   "cell_type": "code",
   "execution_count": null,
   "id": "f28625f0",
   "metadata": {},
   "outputs": [],
   "source": [
    "with open(\"/root/archivo_secreto.txt\", \"w\") as f:\n",
    "    f.write(\"contenido\")"
   ]
  },
  {
   "cell_type": "markdown",
   "id": "b7da1ff9",
   "metadata": {},
   "source": [
    " 8. **ModuleNotFoundError**  \n",
    "  ```python\n",
    "  import modulo_que_no_existe\n",
    "  ```\n",
    "  Al intentar importar un módulo que no está instalado ni en la ruta, Python no lo encuentra."
   ]
  },
  {
   "cell_type": "code",
   "execution_count": null,
   "id": "5e0eeafc",
   "metadata": {},
   "outputs": [],
   "source": [
    "import modulo_que_no_existe"
   ]
  },
  {
   "cell_type": "code",
   "execution_count": null,
   "id": "4f346769",
   "metadata": {},
   "outputs": [],
   "source": [
    "try:\n",
    "    import modulo_que_no_existe\n",
    "\n",
    "except ModuleNotFoundError:\n",
    "    print(f\"Error, el modulo a importar no existe.\")"
   ]
  },
  {
   "cell_type": "markdown",
   "id": "88b77081",
   "metadata": {},
   "source": [
    " 9. **AttributeError**  \n",
    "  ```python\n",
    "  # Llamada a un método inexistente en un objeto --> -->\n",
    "  text = \"hola mundo\"\n",
    "  text.append(\"!\")\n",
    "  ```\n",
    "  ¿Qué es un str?\n",
    "\n",
    "En Python, las cadenas de texto (str) son inmutables y tienen un conjunto fijo de métodos (p. ej. .upper(), .replace(), .split(), etc.).\n",
    "\n",
    "¿Qué hace append()?\n",
    "\n",
    "El método .append() pertenece a las listas (list), y sirve para agregar un elemento al final de la lista.\n",
    "\n",
    "¿Por qué falla?\n",
    "\n",
    "Al hacer text.append(\"!\"), estás llamando a un método que no existe en los objetos str.\n"
   ]
  },
  {
   "cell_type": "code",
   "execution_count": null,
   "id": "143409d7",
   "metadata": {},
   "outputs": [],
   "source": [
    "text = \"hola mundo\"\n",
    "text.append(\"!\")"
   ]
  },
  {
   "cell_type": "code",
   "execution_count": null,
   "id": "a40f388a",
   "metadata": {},
   "outputs": [],
   "source": [
    "try:\n",
    "    text = \"hola mundo\"\n",
    "    text.append(\"!\")\n",
    "\n",
    "except AttributeError:\n",
    "    print(f\"Error, el metodo utilizado 'append()' no existe para los objetos de 'string(str)', pertenece a las listas.\")"
   ]
  },
  {
   "cell_type": "markdown",
   "id": "d018635f",
   "metadata": {},
   "source": [
    " 10. **RuntimeError**  \n",
    "```python\n",
    "  # Genera manualmente un RuntimeError\n",
    "  raise RuntimeError(\"Este es un error en tiempo de ejecución\")\n",
    "```\n",
    "¿Qué hace raise?\n",
    "\n",
    "La palabra clave raise fuerza la generación (lanzamiento) de una excepción determinada en ese punto del código.\n",
    "\n",
    "¿Qué es RuntimeError?\n",
    "\n",
    "Es una excepción genérica que indica un error que ocurre en tiempo de ejecución, sin encajar en categorías más específicas.\n",
    "\n",
    "¿Qué sucede al ejecutar este código?\n",
    "\n",
    "Python crea una instancia de RuntimeError con el mensaje \"Este es un error en tiempo de ejecución\".\n"
   ]
  },
  {
   "cell_type": "code",
   "execution_count": null,
   "id": "18db6a13",
   "metadata": {},
   "outputs": [],
   "source": [
    "raise RuntimeError(\"Este es un error en tiempo de ejecución\")"
   ]
  },
  {
   "cell_type": "code",
   "execution_count": null,
   "id": "2467684c",
   "metadata": {},
   "outputs": [],
   "source": [
    "try:\n",
    "    \n",
    "    raise RuntimeError(\"Este es un error en tiempo de ejecución\")\n",
    "\n",
    "except RuntimeError as e:\n",
    "    print(f\"A ocurrido un error: {e}\")\n"
   ]
  }
 ],
 "metadata": {
  "kernelspec": {
   "display_name": "Python 3",
   "language": "python",
   "name": "python3"
  },
  "language_info": {
   "codemirror_mode": {
    "name": "ipython",
    "version": 3
   },
   "file_extension": ".py",
   "mimetype": "text/x-python",
   "name": "python",
   "nbconvert_exporter": "python",
   "pygments_lexer": "ipython3",
   "version": "3.13.5"
  }
 },
 "nbformat": 4,
 "nbformat_minor": 5
}
