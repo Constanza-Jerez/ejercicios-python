{
 "cells": [
  {
   "cell_type": "markdown",
   "id": "7c54f3ca",
   "metadata": {},
   "source": [
    "# 10 Ejercicios de Manejo de Archivos en Python (Nivel Principiante)\n",
    "> **Consejo:** Para cada ejercicio, recuerda usar siempre el bloque  \n",
    "> ```python\n",
    "> with open(…​) as f:\n",
    ">     …​ \n",
    "```\n",
    "r -> read\n",
    "w -> write\n",
    "a -> append\n",
    "x -> create\n",
    "\n",
    "así garantizas que el archivo se cierre correctamente aun si ocurre un error.  \n",
    "¡A practicar! ​ \n",
    "```"
   ]
  },
  {
   "cell_type": "markdown",
   "id": "d2457253",
   "metadata": {},
   "source": [
    "1. **Crear y escribir en un archivo de texto**  \n",
    "- Crea un archivo llamado `notas.txt` y escribe en él las líneas:  \n",
    "```python\n",
    "    linea_1 = \"¡Hola, mundo!\"\n",
    "    linea_2 = \"Esta es mi primera práctica con archivos.\"\n",
    "```  \n",
    "- Al terminar, cierra el archivo correctamente.\n",
    "\n",
    "*administradores de contexto -> 'with'*\n"
   ]
  },
  {
   "cell_type": "code",
   "execution_count": null,
   "id": "c9272fa1",
   "metadata": {},
   "outputs": [],
   "source": [
    "linea_1 = \"¡Hola mundo!\\n\"\n",
    "linea_2 = \"Esta es mi primera practica con archivos.\\n\"\n",
    "\n",
    "with open(\"notas.txt\", \"w\") as f: #funcion open() y 'w' para escritura\n",
    "    f.write(linea_1)\n",
    "    f.write(linea_2)"
   ]
  },
  {
   "cell_type": "code",
   "execution_count": null,
   "id": "514460cb",
   "metadata": {},
   "outputs": [],
   "source": [
    "dir(f)"
   ]
  },
  {
   "cell_type": "code",
   "execution_count": null,
   "id": "9724ef51",
   "metadata": {},
   "outputs": [],
   "source": [
    "type(f)"
   ]
  },
  {
   "cell_type": "code",
   "execution_count": null,
   "id": "1148e3f1",
   "metadata": {},
   "outputs": [],
   "source": [
    "dir(linea_1)"
   ]
  },
  {
   "cell_type": "code",
   "execution_count": null,
   "id": "f38d9aeb",
   "metadata": {},
   "outputs": [],
   "source": [
    "type(linea_1)"
   ]
  },
  {
   "cell_type": "code",
   "execution_count": null,
   "id": "67d6d951",
   "metadata": {},
   "outputs": [],
   "source": [
    "help(\"with\")"
   ]
  },
  {
   "cell_type": "code",
   "execution_count": null,
   "id": "28d3a14f",
   "metadata": {},
   "outputs": [],
   "source": [
    "linea_1 = \"¡Hola mundo!\\n\"\n",
    "linea_2 = \"Esta es mi primera práctica con archivos.\\n\"\n",
    "\n",
    "try:\n",
    "    with open(\"nueva_carpeta/mi_archivo.txt\", \"w\") as f:  # funcion open() y 'w' para escritura, alias f\n",
    "        f.write(linea_1)                    # write() escritura de archivo\n",
    "        f.write(linea_2)\n",
    "\n",
    "except Exception as error:\n",
    "    print(\"El archivo no se puede escribir |\", error)"
   ]
  },
  {
   "cell_type": "markdown",
   "id": "23e3bbcc",
   "metadata": {},
   "source": [
    "2. **Leer un archivo completo**  \n",
    "   - Abre `notas.txt` en modo lectura y muestra todo su contenido en pantalla de una sola pasada (usando `.read()`)."
   ]
  },
  {
   "cell_type": "code",
   "execution_count": null,
   "id": "3ca11339",
   "metadata": {},
   "outputs": [],
   "source": [
    "fichero = open(\"notas.txt\", \"r\")\n",
    "print(type(fichero)) # muestra el tipo de clase\n",
    "print(\"-------------------------------\")\n",
    "print(fichero.read())"
   ]
  },
  {
   "cell_type": "code",
   "execution_count": null,
   "id": "6b052d65",
   "metadata": {},
   "outputs": [],
   "source": [
    "try:\n",
    "    fichero = open(\"notas_dentro_test.txt\", \"r\")\n",
    "    print(fichero.read())\n",
    "\n",
    "except FileNotFoundError as error:\n",
    "    print(f\"Error, el archivo no existe. ||\", error)"
   ]
  },
  {
   "cell_type": "code",
   "execution_count": null,
   "id": "50576908",
   "metadata": {},
   "outputs": [],
   "source": [
    "type(fichero)"
   ]
  },
  {
   "cell_type": "code",
   "execution_count": null,
   "id": "62a11528",
   "metadata": {},
   "outputs": [],
   "source": [
    "dir(fichero)"
   ]
  },
  {
   "cell_type": "markdown",
   "id": "62499054",
   "metadata": {},
   "source": [
    "3. **Leer un archivo línea por línea**  \n",
    "   - Vuelve a abrir `notas.txt`, pero esta vez recorre e imprime cada línea por separado (usando un bucle `for line in file:`).\n"
   ]
  },
  {
   "cell_type": "code",
   "execution_count": null,
   "id": "b5180354",
   "metadata": {},
   "outputs": [],
   "source": [
    "fichero = open(\"test/notas_dentro_test.txt\", \"r\", encoding='utf-8')\n",
    "\n",
    "for linea in fichero:\n",
    "    print(linea)\n"
   ]
  },
  {
   "cell_type": "code",
   "execution_count": null,
   "id": "2d851383",
   "metadata": {},
   "outputs": [],
   "source": [
    "try:\n",
    "\n",
    "    fichero = open(\"notas_dentro_test.txt\", \"r\", encoding='utf-8')\n",
    "\n",
    "    for linea in fichero:\n",
    "        print(linea)\n",
    "\n",
    "except FileNotFoundError as error:\n",
    "    print(f\"El archivo no existe. || \", error)"
   ]
  },
  {
   "cell_type": "code",
   "execution_count": null,
   "id": "b28a6663",
   "metadata": {},
   "outputs": [],
   "source": [
    "dir(\"for\")"
   ]
  },
  {
   "cell_type": "code",
   "execution_count": null,
   "id": "f5cfdc7f",
   "metadata": {},
   "outputs": [],
   "source": [
    "help(\"for\")"
   ]
  },
  {
   "cell_type": "code",
   "execution_count": null,
   "id": "e1a6765a",
   "metadata": {},
   "outputs": [],
   "source": [
    "type(\"for\")"
   ]
  },
  {
   "cell_type": "markdown",
   "id": "3b050ef9",
   "metadata": {},
   "source": [
    "4. **Contar palabras y líneas**  \n",
    "   - A partir de `notas.txt`, calcula e imprime:  \n",
    "     - Número total de líneas.  \n",
    "     - Número total de palabras (separadas por espacios)."
   ]
  },
  {
   "cell_type": "code",
   "execution_count": null,
   "id": "7ffadaeb",
   "metadata": {},
   "outputs": [],
   "source": [
    "fichero = open(\"notas.txt\", \"r\")  #leo todo el archivo para saber cuantas lineas hay\n",
    "print(fichero.read())\n",
    "print(fichero.close())\n",
    "print(\"--------------------------------------------\")\n",
    "\n",
    "\n",
    "fichero = open(\"notas.txt\", \"r\")\n",
    "contador_lineas = 0\n",
    "\n",
    "for lineas in fichero:\n",
    "    contador_lineas += 1\n",
    "\n",
    "print(f\"Numero total de lineas: {contador_lineas}\")  #estaba en un momento imprimiendo dentro del for / afuera me da el total de lineas\n",
    "\n",
    "print(fichero.close())\n",
    "print(\"--------------------------------------------\")\n",
    "\n",
    "#voy a usar split()\n",
    "fichero = open(\"notas.txt\", \"r\")\n",
    "contador_palabras = 0\n",
    "for lineas in fichero:\n",
    "    contador_palabras += len(linea.split())\n",
    "\n",
    "print(f\"Total de palabras: {contador_palabras}\")\n"
   ]
  },
  {
   "cell_type": "markdown",
   "id": "8ddb21fc",
   "metadata": {},
   "source": [
    "5. **Agregar texto al final**  \n",
    "   - Abre `notas.txt` en modo 'append()' y añade las siguientes líneas:  \n",
    "     ```python\n",
    "     linea_3 = \"Agregando más contenido.\"\n",
    "     linea_4 = \"¡Lo logré!\"\n",
    "     ```  \n",
    "   - Verifica que al leerlo aparezcan las nuevas líneas."
   ]
  },
  {
   "cell_type": "code",
   "execution_count": null,
   "id": "8542fd88",
   "metadata": {},
   "outputs": [],
   "source": [
    "linea_3 = \"a\"\n",
    "linea_4 = \"b\"\n",
    "\n",
    "try:\n",
    "\n",
    "    fichero = open(\"notas.txt\", \"a+\", encoding='utf-8') # 'a' append() -> significa agregar algo al final de una estructura o valor.\n",
    "    fichero.write(linea_3)\n",
    "    fichero.write(linea_4)\n",
    "    #print(dir(fichero))\n",
    "\n",
    "    print(id(fichero))\n",
    "\n",
    "    print(fichero.tell())\n",
    "    print(fichero.read())\n",
    "    \n",
    "    fichero.close()\n",
    "    print(id(fichero))\n",
    "\n",
    "except Exception as error:   # UnsupportedOperation || Pasa porque abriste el archivo con modo \"a\" (append). Ese modo solo permite escribir, no leer; por eso fichero.read() lanza UnsupportedOperation: not readable.\n",
    "    print(type(error))\n",
    "    print(f\"Error, archivo no es legible ||\" , error)\n",
    "    \n"
   ]
  },
  {
   "cell_type": "markdown",
   "id": "996b4abc",
   "metadata": {},
   "source": [
    "##### Direcciones de memoria"
   ]
  },
  {
   "cell_type": "code",
   "execution_count": null,
   "id": "facc22a4",
   "metadata": {},
   "outputs": [],
   "source": [
    "a = [\"a\", \"b\", \"c\"]\n",
    "b = a\n",
    "\n",
    "# print(a.tell())\n",
    "# print(b.tell())\n",
    "#dir(a)\n",
    "\n",
    "del b[:]\n",
    "\n",
    "print(id(a))\n",
    "print(id(b))\n",
    "\n",
    "a = [\"z\"]\n",
    "\n",
    "print(a)\n",
    "print(b)\n",
    "print(id(a))\n",
    "print(id(b))"
   ]
  },
  {
   "cell_type": "code",
   "execution_count": null,
   "id": "c944f002",
   "metadata": {},
   "outputs": [],
   "source": [
    "dir(a)\n"
   ]
  },
  {
   "cell_type": "code",
   "execution_count": null,
   "id": "79401858",
   "metadata": {},
   "outputs": [],
   "source": [
    "import io"
   ]
  },
  {
   "cell_type": "code",
   "execution_count": null,
   "id": "11fafb81",
   "metadata": {},
   "outputs": [],
   "source": [
    "e = io.UnsupportedOperation(\"not readable\") #clase\n",
    "dir(e)"
   ]
  },
  {
   "cell_type": "code",
   "execution_count": null,
   "id": "62e3d871",
   "metadata": {},
   "outputs": [],
   "source": [
    "help()"
   ]
  },
  {
   "cell_type": "code",
   "execution_count": null,
   "id": "05fd9d1d",
   "metadata": {},
   "outputs": [],
   "source": [
    "linea_3 = \"hola\"\n",
    "linea_4 = \"chao\"\n",
    "\n",
    "fichero = open(\"notas.txt\", \"a\")\n",
    "#print(\"Posición inicial del puntero1:\", fichero.tell())\n",
    "fichero.write(linea_3)\n",
    "fichero.write(linea_4)\n",
    "\n",
    "fichero = open(\"notas.txt\", \"r\")        # voy a la primera linea del archivo\n",
    "#print(\"Posición inicial del puntero2:\", fichero.tell())\n",
    "print(fichero.read())\n",
    "fichero.close() #cerrar archivo\n"
   ]
  },
  {
   "cell_type": "markdown",
   "id": "d583f8ee",
   "metadata": {},
   "source": [
    "6. **Copiar el contenido de un archivo**  \n",
    "   - Lee el contenido de `notas.txt` y escríbelo en un nuevo archivo llamado `copia_notas.txt`."
   ]
  },
  {
   "cell_type": "code",
   "execution_count": null,
   "id": "25dfcd81",
   "metadata": {},
   "outputs": [],
   "source": [
    "\n",
    "#averiguar mas sobre este ejercicio\n",
    "\n",
    "fichero = open(\"notas.txt\", \"r\")    # leer el archivo con read()\n",
    "contenido = fichero.read()          # guardo el texto en una variable\n",
    "print(contenido)\n",
    "print(\"------------------------\")\n",
    "#print(type(fichero.read()))\n",
    "print(fichero.tell())\n",
    "fichero.close()\n",
    "\n",
    "copia_fichero = open(\"copia_notas.txt\", \"w+\")   # copiamos el archivo con write()\n",
    "copias = copia_fichero.write(contenido)         # pasar el texto al write()\n",
    "#print(f\"Copiado\", copias)                       # me muestra la cantidad de caracteres que write escribio en la copia\n",
    "print(\"------------------------\")\n",
    "#print(type(fichero.write()))\n",
    "print(copia_fichero.tell())                 # para ver el puntero (donde quedo)\n",
    "copia_fichero.seek(0)                       # seek mueve el puntero en el texto\n",
    "print(copia_fichero.read())\n",
    "\n",
    "print(copia_fichero.tell())\n",
    "copia_fichero.close()"
   ]
  },
  {
   "cell_type": "code",
   "execution_count": null,
   "id": "817951fe",
   "metadata": {},
   "outputs": [],
   "source": [
    "#copia_fichero.seek(0)"
   ]
  },
  {
   "cell_type": "markdown",
   "id": "90f8c6f6",
   "metadata": {},
   "source": [
    "7. **Buscar y reemplazar texto**  \n",
    "   - Lee `copia_notas.txt` en su totalidad, reemplaza todas las ocurrencias de la palabra “Línea” por “Renglón” y guarda el resultado en el mismo archivo.\n",
    "\n",
    "   Algoritmo para resolver este problema\n",
    "   1. primero leo el archivo\n",
    "   2. busco las palabras 'lineas' dentro del archivo\n",
    "   3. al encontrar las palabras, las borro y reemplazo por las palabras 'renglon'\n",
    "   4. guardo el resultado\n"
   ]
  },
  {
   "cell_type": "code",
   "execution_count": null,
   "id": "d845cde2",
   "metadata": {},
   "outputs": [],
   "source": [
    "fichero = open(\"copia_notas.txt\", \"r\") # paso 1 abro el archivo\n",
    "contenido = fichero.read()             \n",
    "#print(fichero.read()) \n",
    "\n",
    "fichero.close()\n",
    "\n",
    "modificado = contenido.replace(\"linea\", \"Renglon\") # paso 2 y 3 reemplazar las palabras\n",
    "\n",
    "fichero = open(\"copia_notas.txt\", \"w\") #paso 3 guardo la copia\n",
    "reemplazo = fichero.write(modificado)\n",
    "\n",
    "fichero.close()\n",
    "\n",
    "\n",
    "\n"
   ]
  },
  {
   "cell_type": "code",
   "execution_count": null,
   "id": "87e969c3",
   "metadata": {},
   "outputs": [],
   "source": [
    "texto = \"Python es genial\"\n",
    "#print(dir(texto))\n",
    "\n",
    "contenido = texto.replace(\"genial\", \"complejo\")\n",
    "\n",
    "print(texto)\n",
    "print(contenido)"
   ]
  },
  {
   "cell_type": "markdown",
   "id": "9cbdcac6",
   "metadata": {},
   "source": [
    "8. **Trabajar con archivos CSV**  \n",
    "   - Crea un archivo `estudiantes.csv` con las columnas `nombre,edad,nota`.  \n",
    "   - Escribe al menos 3 registros, por ejemplo:  \n",
    "     ```python\n",
    "     Juan,20,7.5\n",
    "     María,22,8.0\n",
    "     Pedro,19,6.8\n",
    "     ```  \n",
    "   - Luego, léelo usando el módulo `csv` y muestra cada fila como lista o diccionario.\n",
    "\n",
    "   Pasos\n",
    "   1. crear el archivo\n",
    "   2. Digitar las columnas 'nombre','edad','nota'\n",
    "   3. Escribir al menos 3 registros\n",
    "   4. \n",
    "   5. Leer el archivo"
   ]
  },
  {
   "cell_type": "code",
   "execution_count": null,
   "id": "405106e4",
   "metadata": {},
   "outputs": [],
   "source": []
  },
  {
   "cell_type": "markdown",
   "id": "6ef2c529",
   "metadata": {},
   "source": [
    "9. **JSON básico**  \n",
    "   - Define en tu código un diccionario con datos de un estudiante:  \n",
    "     ```python\n",
    "     alumno = {\"nombre\":\"Ana\", \"edad\":21, \"cursos\":[\"Python\",\"SQL\",\"Git\"]}\n",
    "     ```  \n",
    "   - Guarda este diccionario en un archivo `alumno.json` usando `json.dump()`.  \n",
    "   - Vuelve a cargarlo con `json.load()` y muestra en pantalla la lista de cursos."
   ]
  },
  {
   "cell_type": "code",
   "execution_count": null,
   "id": "e5d7a745",
   "metadata": {},
   "outputs": [],
   "source": []
  },
  {
   "cell_type": "markdown",
   "id": "e629cc63",
   "metadata": {},
   "source": [
    "10. **Manejo de excepciones al abrir archivos**  \n",
    "    - Escribe una función `leer_archivo(ruta)` que intente abrir un archivo en modo lectura y devuelva su contenido.  \n",
    "    - Si el archivo no existe, captura la excepción `FileNotFoundError` y muestra un mensaje amable:  \n",
    "    ```python\n",
    "      El archivo <<ruta>> no fue encontrado.\n",
    "    ```  \n",
    "    - Prueba la función con un nombre de archivo correcto y con uno inexistente."
   ]
  },
  {
   "cell_type": "code",
   "execution_count": null,
   "id": "5d6af67a",
   "metadata": {},
   "outputs": [],
   "source": []
  }
 ],
 "metadata": {
  "kernelspec": {
   "display_name": "Python 3",
   "language": "python",
   "name": "python3"
  },
  "language_info": {
   "codemirror_mode": {
    "name": "ipython",
    "version": 3
   },
   "file_extension": ".py",
   "mimetype": "text/x-python",
   "name": "python",
   "nbconvert_exporter": "python",
   "pygments_lexer": "ipython3",
   "version": "3.13.5"
  }
 },
 "nbformat": 4,
 "nbformat_minor": 5
}
