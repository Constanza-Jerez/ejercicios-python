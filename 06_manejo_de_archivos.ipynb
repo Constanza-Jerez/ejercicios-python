{
 "cells": [
  {
   "cell_type": "markdown",
   "id": "7c54f3ca",
   "metadata": {},
   "source": [
    "# 10 Ejercicios de Manejo de Archivos en Python (Nivel Principiante)\n",
    "> **Consejo:** Para cada ejercicio, recuerda usar siempre el bloque  \n",
    "> ```python\n",
    "> with open(…​) as f:\n",
    ">     …​ \n",
    "> ```  \n",
    "> r -> read\n",
    "> w -> write\n",
    "> a -> append\n",
    "> x -> create\n",
    "> así garantizas que el archivo se cierre correctamente aun si ocurre un error.  \n",
    "> ¡A practicar! "
   ]
  },
  {
   "cell_type": "markdown",
   "id": "d2457253",
   "metadata": {},
   "source": [
    "1. **Crear y escribir en un archivo de texto**  \n",
    "- Crea un archivo llamado `notas.txt` y escribe en él las líneas:  \n",
    "```python\n",
    "    linea_1 = \"¡Hola, mundo!\"\n",
    "    linea_2 = \"Esta es mi primera práctica con archivos.\"\n",
    "```  \n",
    "- Al terminar, cierra el archivo correctamente.\n",
    "\n",
    "*administradores de contexto -> 'with'*\n"
   ]
  },
  {
   "cell_type": "code",
   "execution_count": null,
   "id": "c9272fa1",
   "metadata": {},
   "outputs": [],
   "source": [
    "linea_1 = \"¡Hola mundo!\\n\"\n",
    "linea_2 = \"Esta es mi primera practica con archivos.\\n\"\n",
    "\n",
    "with open(\"notas.txt\", \"w\") as f: #funcion open() y 'w' para escritura\n",
    "    f.write(linea_1)\n",
    "    f.write(linea_2)"
   ]
  },
  {
   "cell_type": "code",
   "execution_count": null,
   "id": "514460cb",
   "metadata": {},
   "outputs": [],
   "source": [
    "dir(f)"
   ]
  },
  {
   "cell_type": "code",
   "execution_count": null,
   "id": "9724ef51",
   "metadata": {},
   "outputs": [],
   "source": [
    "type(f)"
   ]
  },
  {
   "cell_type": "code",
   "execution_count": null,
   "id": "1148e3f1",
   "metadata": {},
   "outputs": [],
   "source": [
    "dir(linea_1)"
   ]
  },
  {
   "cell_type": "code",
   "execution_count": null,
   "id": "f38d9aeb",
   "metadata": {},
   "outputs": [],
   "source": [
    "type(linea_1)"
   ]
  },
  {
   "cell_type": "code",
   "execution_count": null,
   "id": "67d6d951",
   "metadata": {},
   "outputs": [],
   "source": [
    "help(f)"
   ]
  },
  {
   "cell_type": "code",
   "execution_count": null,
   "id": "28d3a14f",
   "metadata": {},
   "outputs": [],
   "source": [
    "linea_1 = \"¡Hola mundo!\\n\"\n",
    "linea_2 = \"Esta es mi primera práctica con archivos.\\n\"\n",
    "\n",
    "try:\n",
    "    with open(\"notas.txt\", \"w\") as f:  # funcion open() y 'w' para escritura, alias f\n",
    "        f.write(linea_1)                    # write() escritura de archivo\n",
    "        f.write(linea_2)\n",
    "\n",
    "except Exception as archivo:\n",
    "    print(\"En el archivo no se puede escribir\", {archivo})"
   ]
  },
  {
   "cell_type": "markdown",
   "id": "23e3bbcc",
   "metadata": {},
   "source": [
    "2. **Leer un archivo completo**  \n",
    "   - Abre `notas.txt` en modo lectura y muestra todo su contenido en pantalla de una sola pasada (usando `.read()`)."
   ]
  },
  {
   "cell_type": "code",
   "execution_count": null,
   "id": "3ca11339",
   "metadata": {},
   "outputs": [],
   "source": [
    "fichero = open(\"notas.txt\", \"r\")\n",
    "print(fichero.read())"
   ]
  },
  {
   "cell_type": "code",
   "execution_count": null,
   "id": "6b052d65",
   "metadata": {},
   "outputs": [],
   "source": [
    "try:\n",
    "    fichero = open(\"notas.txt\", \"r\")\n",
    "    print(fichero.read())\n",
    "\n",
    "except FileNotFoundError:\n",
    "    print(f\"Error, el archivo no existe.\")"
   ]
  },
  {
   "cell_type": "markdown",
   "id": "62499054",
   "metadata": {},
   "source": [
    "3. **Leer un archivo línea por línea**  \n",
    "   - Vuelve a abrir `notas.txt`, pero esta vez recorre e imprime cada línea por separado (usando un bucle `for line in file:`).\n"
   ]
  },
  {
   "cell_type": "code",
   "execution_count": null,
   "id": "b5180354",
   "metadata": {},
   "outputs": [],
   "source": [
    "fichero = open(\"notas.txt\", \"r\")\n",
    "\n",
    "for linea in fichero:\n",
    "    print(linea)\n"
   ]
  },
  {
   "cell_type": "markdown",
   "id": "3b050ef9",
   "metadata": {},
   "source": [
    "4. **Contar palabras y líneas**  \n",
    "   - A partir de `notas.txt`, calcula e imprime:  \n",
    "     - Número total de líneas.  \n",
    "     - Número total de palabras (separadas por espacios)."
   ]
  },
  {
   "cell_type": "code",
   "execution_count": null,
   "id": "7ffadaeb",
   "metadata": {},
   "outputs": [],
   "source": []
  },
  {
   "cell_type": "markdown",
   "id": "8ddb21fc",
   "metadata": {},
   "source": [
    "5. **Agregar texto al final**  \n",
    "   - Abre `notas.txt` en modo append y añade las siguientes líneas:  \n",
    "     ```python\n",
    "     Línea 3: Agregando más contenido.\n",
    "     Línea 4: ¡Lo logré!\n",
    "     ```  \n",
    "   - Verifica que al leerlo aparezcan las nuevas líneas."
   ]
  },
  {
   "cell_type": "code",
   "execution_count": null,
   "id": "05fd9d1d",
   "metadata": {},
   "outputs": [],
   "source": []
  },
  {
   "cell_type": "markdown",
   "id": "d583f8ee",
   "metadata": {},
   "source": [
    "6. **Copiar el contenido de un archivo**  \n",
    "   - Lee el contenido de `notas.txt` y escríbelo en un nuevo archivo llamado `copia_notas.txt`."
   ]
  },
  {
   "cell_type": "code",
   "execution_count": null,
   "id": "25dfcd81",
   "metadata": {},
   "outputs": [],
   "source": []
  },
  {
   "cell_type": "markdown",
   "id": "90f8c6f6",
   "metadata": {},
   "source": [
    "7. **Buscar y reemplazar texto**  \n",
    "   - Lee `copia_notas.txt` en su totalidad, reemplaza todas las ocurrencias de la palabra “Línea” por “Renglón” y guarda el resultado en el mismo archivo."
   ]
  },
  {
   "cell_type": "code",
   "execution_count": null,
   "id": "d845cde2",
   "metadata": {},
   "outputs": [],
   "source": []
  },
  {
   "cell_type": "markdown",
   "id": "9cbdcac6",
   "metadata": {},
   "source": [
    "8. **Trabajar con archivos CSV**  \n",
    "   - Crea un archivo `estudiantes.csv` con las columnas `nombre,edad,nota`.  \n",
    "   - Escribe al menos 3 registros, por ejemplo:  \n",
    "     ```python\n",
    "     Juan,20,7.5\n",
    "     María,22,8.0\n",
    "     Pedro,19,6.8\n",
    "     ```  \n",
    "   - Luego, léelo usando el módulo `csv` y muestra cada fila como lista o diccionario."
   ]
  },
  {
   "cell_type": "code",
   "execution_count": null,
   "id": "405106e4",
   "metadata": {},
   "outputs": [],
   "source": []
  },
  {
   "cell_type": "markdown",
   "id": "6ef2c529",
   "metadata": {},
   "source": [
    "9. **JSON básico**  \n",
    "   - Define en tu código un diccionario con datos de un estudiante:  \n",
    "     ```python\n",
    "     alumno = {\"nombre\":\"Ana\", \"edad\":21, \"cursos\":[\"Python\",\"SQL\",\"Git\"]}\n",
    "     ```  \n",
    "   - Guarda este diccionario en un archivo `alumno.json` usando `json.dump()`.  \n",
    "   - Vuelve a cargarlo con `json.load()` y muestra en pantalla la lista de cursos."
   ]
  },
  {
   "cell_type": "code",
   "execution_count": null,
   "id": "e5d7a745",
   "metadata": {},
   "outputs": [],
   "source": []
  },
  {
   "cell_type": "markdown",
   "id": "e629cc63",
   "metadata": {},
   "source": [
    "10. **Manejo de excepciones al abrir archivos**  \n",
    "    - Escribe una función `leer_archivo(ruta)` que intente abrir un archivo en modo lectura y devuelva su contenido.  \n",
    "    - Si el archivo no existe, captura la excepción `FileNotFoundError` y muestra un mensaje amable:  \n",
    "    ```python\n",
    "      El archivo <<ruta>> no fue encontrado.\n",
    "    ```  \n",
    "    - Prueba la función con un nombre de archivo correcto y con uno inexistente."
   ]
  },
  {
   "cell_type": "code",
   "execution_count": null,
   "id": "5d6af67a",
   "metadata": {},
   "outputs": [],
   "source": []
  }
 ],
 "metadata": {
  "kernelspec": {
   "display_name": "Python 3",
   "language": "python",
   "name": "python3"
  },
  "language_info": {
   "codemirror_mode": {
    "name": "ipython",
    "version": 3
   },
   "file_extension": ".py",
   "mimetype": "text/x-python",
   "name": "python",
   "nbconvert_exporter": "python",
   "pygments_lexer": "ipython3",
   "version": "3.13.5"
  }
 },
 "nbformat": 4,
 "nbformat_minor": 5
}
