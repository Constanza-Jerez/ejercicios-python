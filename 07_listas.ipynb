{
 "cells": [
  {
   "cell_type": "markdown",
   "id": "eff9ce36",
   "metadata": {},
   "source": [
    "# Ejercicios con listas"
   ]
  },
  {
   "cell_type": "markdown",
   "id": "c5e74239",
   "metadata": {},
   "source": [
    "1. Sumar todos los valores (sin sum())"
   ]
  },
  {
   "cell_type": "code",
   "execution_count": null,
   "id": "9fbf51dd",
   "metadata": {},
   "outputs": [],
   "source": [
    "nums = [3, 5, 2, 10, 4]\n",
    "total = 0\n",
    "\n",
    "for n in nums:\n",
    "    total += n\n",
    "\n",
    "print(f\"La suma total es: {total}\")"
   ]
  },
  {
   "cell_type": "markdown",
   "id": "1d507bf7",
   "metadata": {},
   "source": [
    "2. Sumar solo los pares"
   ]
  },
  {
   "cell_type": "code",
   "execution_count": null,
   "id": "e55a6c40",
   "metadata": {},
   "outputs": [],
   "source": [
    "nums = [1, 2, 3, 4, 5, 6, 10]\n",
    "total_pares = 0\n",
    "\n",
    "for n in nums:\n",
    "    if n % 2 == 0:\n",
    "        total_pares += n\n",
    "\n",
    "print(f\"La suma total de los numeros pares es: {total_pares}\")"
   ]
  },
  {
   "cell_type": "markdown",
   "id": "c807fa39",
   "metadata": {},
   "source": [
    "3. Quitar ceros y None de una lista"
   ]
  },
  {
   "cell_type": "code",
   "execution_count": null,
   "id": "56b6fa19",
   "metadata": {},
   "outputs": [],
   "source": [
    "datos = [0, 1, None, 2, 0, 3, None, 4, None, 0, 18]\n",
    "lista_limpia = []\n",
    "\n",
    "for dato in datos:\n",
    "    if dato != 0 and dato is not None:\n",
    "        lista_limpia.append(dato)\n",
    "\n",
    "print(f\"{lista_limpia}\")"
   ]
  },
  {
   "cell_type": "markdown",
   "id": "f49d71d3",
   "metadata": {},
   "source": [
    "4. Eliminar por índice ingresado por el usuario"
   ]
  },
  {
   "cell_type": "code",
   "execution_count": null,
   "id": "d53bfa44",
   "metadata": {},
   "outputs": [],
   "source": [
    "frutas = [\"manzana\", \"pera\", \"uva\", \"kiwi\"]\n",
    "\n",
    "try:\n",
    "\n",
    "    entrada = int(input(\"Ingrese el indice a eliminar: \"))\n",
    "\n",
    "    if frutas.pop(entrada):\n",
    "        print(f\"lista de frutas {frutas}\")\n",
    "\n",
    "except IndexError:\n",
    "    print(f\"Error, el indice {entrada} no se encuentra en la lista\")\n",
    "\n",
    "except ValueError:\n",
    "    print(f\"Error, ingrese solo indices numericos.\")\n"
   ]
  },
  {
   "cell_type": "markdown",
   "id": "ed279652",
   "metadata": {},
   "source": [
    "5. Concatenar dos listas y quitar duplicados (mantener orden)"
   ]
  },
  {
   "cell_type": "code",
   "execution_count": 61,
   "id": "c472aaf7",
   "metadata": {},
   "outputs": [
    {
     "name": "stdout",
     "output_type": "stream",
     "text": [
      "[1, 2, 3, 4, 5]\n"
     ]
    }
   ],
   "source": [
    "a = [1, 2, 3, 2]\n",
    "b = [3, 4, 5, 1]\n",
    "lista = []\n",
    "\n",
    "concatenar = a + b\n",
    "#print(concatenar)\n",
    "\n",
    "for num in concatenar:\n",
    "   if num not in lista:\n",
    "      lista.append(num)\n",
    "\n",
    "print(f\"{lista}\")"
   ]
  },
  {
   "cell_type": "markdown",
   "id": "2a726326",
   "metadata": {},
   "source": [
    "6. Unir palabras en una frase (concatenar strings)"
   ]
  },
  {
   "cell_type": "code",
   "execution_count": 63,
   "id": "f25ebe05",
   "metadata": {},
   "outputs": [
    {
     "name": "stdout",
     "output_type": "stream",
     "text": [
      "Hola mundo desde Python\n"
     ]
    }
   ],
   "source": [
    "palabras = [\"Hola\", \"mundo\", \"desde\", \"Python\"]\n",
    "\n",
    "frase = \" \".join(palabras) #El método join() une una secuencia de cadenas con un delimitador específico\n",
    "print(frase)"
   ]
  }
 ],
 "metadata": {
  "kernelspec": {
   "display_name": "Python 3",
   "language": "python",
   "name": "python3"
  },
  "language_info": {
   "codemirror_mode": {
    "name": "ipython",
    "version": 3
   },
   "file_extension": ".py",
   "mimetype": "text/x-python",
   "name": "python",
   "nbconvert_exporter": "python",
   "pygments_lexer": "ipython3",
   "version": "3.13.5"
  }
 },
 "nbformat": 4,
 "nbformat_minor": 5
}
