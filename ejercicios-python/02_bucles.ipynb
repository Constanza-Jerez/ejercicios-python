{
 "cells": [
  {
   "cell_type": "markdown",
   "id": "4e782746",
   "metadata": {},
   "source": [
    "# 50 ejercicios de bucles en Python\n",
    "\n",
    "#### Nivel básico (1–10)"
   ]
  },
  {
   "cell_type": "markdown",
   "id": "65d7c4bc",
   "metadata": {},
   "source": [
    "1. Imprime los números del 1 al 10 usando un `for`. "
   ]
  },
  {
   "cell_type": "code",
   "execution_count": null,
   "id": "8bdd69ec",
   "metadata": {},
   "outputs": [],
   "source": [
    "for n in range(1 , 11):\n",
    "    print(n)"
   ]
  },
  {
   "cell_type": "markdown",
   "id": "1c09ba00",
   "metadata": {},
   "source": [
    "2. Imprime los números pares del 2 al 20 usando un `for`."
   ]
  },
  {
   "cell_type": "code",
   "execution_count": null,
   "id": "f3058fa4",
   "metadata": {},
   "outputs": [],
   "source": [
    "for n in range(1, 21):\n",
    "    if n % 2 == 0:\n",
    "        print(n)"
   ]
  },
  {
   "cell_type": "markdown",
   "id": "ac0d8bce",
   "metadata": {},
   "source": [
    "3. Imprime los números impares del 1 al 19 usando un `for`."
   ]
  },
  {
   "cell_type": "code",
   "execution_count": null,
   "id": "33b23eae",
   "metadata": {},
   "outputs": [],
   "source": [
    "for n in range(1, 21):\n",
    "    if n % 2 != 0:\n",
    "        print(n)"
   ]
  },
  {
   "cell_type": "markdown",
   "id": "e400eacb",
   "metadata": {},
   "source": [
    "4. Usa un `while` para imprimir los números del 1 al 10."
   ]
  },
  {
   "cell_type": "code",
   "execution_count": null,
   "id": "be254e8d",
   "metadata": {},
   "outputs": [],
   "source": [
    "numero = 0\n",
    "\n",
    "while numero < 10:\n",
    "   numero = numero + 1\n",
    "   print(numero)\n"
   ]
  },
  {
   "cell_type": "markdown",
   "id": "c92c9898",
   "metadata": {},
   "source": [
    "5. Usa un `while` para imprimir los números pares del 2 al 20.  "
   ]
  },
  {
   "cell_type": "code",
   "execution_count": null,
   "id": "3fccd531",
   "metadata": {},
   "outputs": [],
   "source": [
    "numero = 0\n",
    "\n",
    "while numero < 20:\n",
    "    numero = numero + 2\n",
    "    print(numero)"
   ]
  },
  {
   "cell_type": "markdown",
   "id": "9d36fa8e",
   "metadata": {},
   "source": [
    "6. Dado un número N ingresado por el usuario, imprime la serie del 1 a N con un `for`.  "
   ]
  },
  {
   "cell_type": "code",
   "execution_count": null,
   "id": "8ddb2beb",
   "metadata": {},
   "outputs": [],
   "source": [
    "numero = int(input(\"Ingrese un numero: \"))\n",
    "\n",
    "for numero in range(1, numero+1):\n",
    "    print(numero)"
   ]
  },
  {
   "cell_type": "markdown",
   "id": "bc868982",
   "metadata": {},
   "source": [
    "7. Dado un número N ingresado por el usuario, imprime la serie del 1 a N con un `while`. "
   ]
  },
  {
   "cell_type": "code",
   "execution_count": null,
   "id": "19a0d940",
   "metadata": {},
   "outputs": [],
   "source": [
    "numero = int(input(\"Ingrese un numero: \"))\n",
    "\n",
    "while \n",
    "    print()\n"
   ]
  },
  {
   "cell_type": "markdown",
   "id": "e42f5a72",
   "metadata": {},
   "source": [
    "8. Lee 5 nombres desde la consola y almacénalos en una lista usando un bucle `for`."
   ]
  },
  {
   "cell_type": "code",
   "execution_count": null,
   "id": "2ce3da8e",
   "metadata": {},
   "outputs": [],
   "source": [
    "lista_nombres = []   #lista vacia\n",
    "\n",
    "for nombre in range(5): #bucle for donde damos el maximo de nombres que puede ingresar\n",
    "    nombres = input(\"Ingrese los nombres: \") #pedimos los nombres\n",
    "    lista_nombres.append(nombres) # (append) agrega un elemento al final de la lista\n",
    "    \n",
    "print(lista_nombres)"
   ]
  },
  {
   "cell_type": "markdown",
   "id": "ebd191e6",
   "metadata": {},
   "source": [
    "9. Lee números hasta que el usuario ingrese 0, y luego muestra cuántos números ingresó."
   ]
  },
  {
   "cell_type": "code",
   "execution_count": null,
   "id": "173462c1",
   "metadata": {},
   "outputs": [],
   "source": [
    "lista_numeros = []\n",
    "\n",
    "while "
   ]
  },
  {
   "cell_type": "markdown",
   "id": "7d691074",
   "metadata": {},
   "source": [
    "10. Usa un bucle para sumar todos los elementos de la lista `[3, 7, 1, 9, 5]`."
   ]
  },
  {
   "cell_type": "code",
   "execution_count": 62,
   "id": "b20b82db",
   "metadata": {},
   "outputs": [
    {
     "name": "stdout",
     "output_type": "stream",
     "text": [
      "25\n"
     ]
    }
   ],
   "source": [
    "lista = [3, 7, 1, 9, 5]  \n",
    "suma = 0 #donde almacenamos la suma\n",
    "\n",
    "for numero in lista: #recorremos la lista con numero\n",
    "    suma = numero + suma\n",
    "print(suma)"
   ]
  },
  {
   "cell_type": "markdown",
   "id": "62192a10",
   "metadata": {},
   "source": [
    "#### Nivel intermedio (11–30)"
   ]
  },
  {
   "cell_type": "markdown",
   "id": "2d392178",
   "metadata": {},
   "source": [
    "11. Genera la tabla de multiplicar de un número ingresado usando un `for`. "
   ]
  },
  {
   "cell_type": "code",
   "execution_count": null,
   "id": "82a0fbed",
   "metadata": {},
   "outputs": [],
   "source": [
    "numero = int(input(\"Ingrese un numero a multiplicar: \"))\n",
    "\n",
    "for n in range(1, 11):\n",
    "\n",
    "    print(f\"{numero} x {n} = {n * numero}\")"
   ]
  },
  {
   "cell_type": "markdown",
   "id": "917a0e56",
   "metadata": {},
   "source": [
    "12. Cuenta cuántas veces aparece la letra “a” en una frase ingresada, usando un `for`. "
   ]
  },
  {
   "cell_type": "code",
   "execution_count": null,
   "id": "dfee386b",
   "metadata": {},
   "outputs": [],
   "source": [
    "frase = input(\"Ingrese una frase: \")\n",
    "mi_letra = \"a\"\n",
    "contador = 0 \n",
    "\n",
    "for letras in frase:\n",
    "   if letras == mi_letra:\n",
    "      contador = contador + 1\n",
    "\n",
    "print(f\"La letra '{mi_letra}' en la frase '{frase}' aparece: {contador} veces\")"
   ]
  }
 ],
 "metadata": {
  "kernelspec": {
   "display_name": "Python 3",
   "language": "python",
   "name": "python3"
  },
  "language_info": {
   "codemirror_mode": {
    "name": "ipython",
    "version": 3
   },
   "file_extension": ".py",
   "mimetype": "text/x-python",
   "name": "python",
   "nbconvert_exporter": "python",
   "pygments_lexer": "ipython3",
   "version": "3.13.5"
  }
 },
 "nbformat": 4,
 "nbformat_minor": 5
}
