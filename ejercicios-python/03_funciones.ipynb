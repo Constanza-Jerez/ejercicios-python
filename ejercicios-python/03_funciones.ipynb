{
 "cells": [
  {
   "cell_type": "markdown",
   "id": "10239d22",
   "metadata": {},
   "source": [
    "# 50 Ejercicios de Funciones en Python "
   ]
  },
  {
   "cell_type": "markdown",
   "id": "3e8e98c3",
   "metadata": {},
   "source": [
    "1. Define `hola_mundo()` que imprima “¡Hola, mundo!”. "
   ]
  },
  {
   "cell_type": "code",
   "execution_count": null,
   "id": "ed127e5f",
   "metadata": {},
   "outputs": [
    {
     "name": "stdout",
     "output_type": "stream",
     "text": [
      "Hola, Mundo!\n"
     ]
    }
   ],
   "source": [
    "print(\"Hola, Mundo!\")"
   ]
  },
  {
   "cell_type": "markdown",
   "id": "dab1a9c4",
   "metadata": {},
   "source": [
    "2. Crea `suma(a, b)` que devuelva la suma de dos números.  "
   ]
  },
  {
   "cell_type": "code",
   "execution_count": null,
   "id": "44156687",
   "metadata": {},
   "outputs": [],
   "source": []
  }
 ],
 "metadata": {
  "kernelspec": {
   "display_name": "Python 3",
   "language": "python",
   "name": "python3"
  },
  "language_info": {
   "codemirror_mode": {
    "name": "ipython",
    "version": 3
   },
   "file_extension": ".py",
   "mimetype": "text/x-python",
   "name": "python",
   "nbconvert_exporter": "python",
   "pygments_lexer": "ipython3",
   "version": "3.13.5"
  }
 },
 "nbformat": 4,
 "nbformat_minor": 5
}
